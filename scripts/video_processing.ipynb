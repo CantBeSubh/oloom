{
 "cells": [
  {
   "cell_type": "markdown",
   "id": "09a9062c",
   "metadata": {},
   "source": [
    "# THE PLAN\n",
    "1. A function, that will accept minio url\n",
    "2. Download the video from minio to a temp directory\n",
    "3. Extract Audio\n",
    "4. Load OpenAI's Whisper model\n",
    "5. Covert Audio to Text\n",
    "6. append .srt artifacts,i.e, every sentence is a new line and has timestamps (maybe?)\n",
    "7. Upload the .srt file to minio\n",
    "8. Use the text to generate summary, and chapters for the video\n",
    "9. Summary can be stored in DB as video.description (so 2 things,1> pass the video id & 2> move DB to PG or smthing)\n",
    "10. IDK how to store the chapters, maybe in DB"
   ]
  },
  {
   "cell_type": "code",
   "execution_count": 5,
   "id": "df835a20",
   "metadata": {},
   "outputs": [
    {
     "name": "stdout",
     "output_type": "stream",
     "text": [
      "\n",
      "\u001b[1m[\u001b[0m\u001b[34;49mnotice\u001b[0m\u001b[1;39;49m]\u001b[0m\u001b[39;49m A new release of pip is available: \u001b[0m\u001b[31;49m24.0\u001b[0m\u001b[39;49m -> \u001b[0m\u001b[32;49m25.1.1\u001b[0m\n",
      "\u001b[1m[\u001b[0m\u001b[34;49mnotice\u001b[0m\u001b[1;39;49m]\u001b[0m\u001b[39;49m To update, run: \u001b[0m\u001b[32;49mpip3 install --upgrade pip\u001b[0m\n",
      "Note: you may need to restart the kernel to use updated packages.\n"
     ]
    }
   ],
   "source": [
    "%pip install minio -q"
   ]
  },
  {
   "cell_type": "code",
   "execution_count": 17,
   "id": "e0a9ea7b",
   "metadata": {},
   "outputs": [],
   "source": [
    "MINIO_IP=\"192.168.0.118\"\n",
    "MINIO_PORT=\"9010\"\n",
    "MINIO_ACCESS_KEY=\"oloom_key\"\n",
    "MINIO_SECRET_KEY=\"KhGjEmfDW07wMN34SYKJkv539o7Rfq8yoGK0efeS\""
   ]
  },
  {
   "cell_type": "code",
   "execution_count": 27,
   "id": "c6994de8",
   "metadata": {},
   "outputs": [
    {
     "data": {
      "text/plain": [
       "True"
      ]
     },
     "execution_count": 27,
     "metadata": {},
     "output_type": "execute_result"
    }
   ],
   "source": [
    "minio_client = Minio( f\"{MINIO_IP}:{MINIO_PORT}\", access_key=MINIO_ACCESS_KEY, secret_key=MINIO_SECRET_KEY, secure=False )\n",
    "minio_client.bucket_exists(\"oloom\")\n"
   ]
  },
  {
   "cell_type": "code",
   "execution_count": null,
   "id": "8946c220",
   "metadata": {},
   "outputs": [],
   "source": [
    "from tempfile import mkdtemp\n",
    "import shutil\n",
    "from minio import Minio\n",
    "import os\n",
    "\n",
    "class VideoProcessor:\n",
    "    def __init__(self,video_id,file_name):\n",
    "        temp_dir = mkdtemp(prefix=f\"oloom_\")\n",
    "        print(f\"Temp dir: {temp_dir}\")\n",
    "        print(f\"Temp video path: {temp_dir}/{file_name}\")\n",
    "        self.video_id = video_id\n",
    "        self.file_name = file_name\n",
    "        self.temp_dir = temp_dir\n",
    "        self.video_path = f\"{temp_dir}/{file_name}\"\n",
    "        self.minio_client = Minio(\n",
    "            f\"{MINIO_IP}:{MINIO_PORT}\",\n",
    "            access_key=MINIO_ACCESS_KEY,\n",
    "            secret_key=MINIO_SECRET_KEY,\n",
    "            secure=False\n",
    "        )\n",
    "        if not self.minio_client.bucket_exists(\"oloom\"):\n",
    "            raise Error(\"Minio bucket does not exist\")\n",
    "        \n",
    "        self.download_video()\n",
    "        # self.cleanup()\n",
    "\n",
    "    def download_video(self):\n",
    "        try:\n",
    "            self.minio_client.fget_object(bucket_name=\"oloom\",object_name=self.file_name,file_path=self.video_path)\n",
    "            return True\n",
    "        except Exception as e:\n",
    "            logger.error(f\"Error downloading video: {e}\")\n",
    "            raise e\n",
    "\n",
    "    def cleanup(self):\n",
    "        shutil.rmtree(self.temp_dir)"
   ]
  },
  {
   "cell_type": "code",
   "execution_count": 53,
   "id": "066d4c36",
   "metadata": {},
   "outputs": [
    {
     "name": "stdout",
     "output_type": "stream",
     "text": [
      "Temp dir: /var/folders/b9/x0sm9z492qd6qs1dyjpcyydw0000gn/T/oloom_1dwmm5a1\n",
      "Temp video path: /var/folders/b9/x0sm9z492qd6qs1dyjpcyydw0000gn/T/oloom_1dwmm5a1/920bdf9e-159d-447b-9720-c7575436cbe8-1 Hour of Berserk Music (Theme of Guts).mp4\n"
     ]
    }
   ],
   "source": [
    "VideoProcessor = VideoProcessor(\"123\",\"920bdf9e-159d-447b-9720-c7575436cbe8-1 Hour of Berserk Music (Theme of Guts).mp4\")"
   ]
  }
 ],
 "metadata": {
  "kernelspec": {
   "display_name": ".venv",
   "language": "python",
   "name": "python3"
  },
  "language_info": {
   "codemirror_mode": {
    "name": "ipython",
    "version": 3
   },
   "file_extension": ".py",
   "mimetype": "text/x-python",
   "name": "python",
   "nbconvert_exporter": "python",
   "pygments_lexer": "ipython3",
   "version": "3.12.3"
  }
 },
 "nbformat": 4,
 "nbformat_minor": 5
}
